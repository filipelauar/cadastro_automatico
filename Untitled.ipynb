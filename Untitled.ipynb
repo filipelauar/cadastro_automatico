{
 "cells": [
  {
   "cell_type": "code",
   "execution_count": 2,
   "id": "255c3b4c",
   "metadata": {},
   "outputs": [
    {
     "name": "stdout",
     "output_type": "stream",
     "text": [
      "Collecting easyocr\n",
      "  Downloading easyocr-1.6.2-py3-none-any.whl (2.9 MB)\n",
      "Collecting Shapely\n",
      "  Downloading Shapely-1.8.5.post1-cp38-cp38-win_amd64.whl (1.3 MB)\n",
      "Requirement already satisfied: PyYAML in c:\\users\\filipe\\anaconda3\\lib\\site-packages (from easyocr) (5.4.1)\n",
      "Requirement already satisfied: torch in c:\\users\\filipe\\anaconda3\\lib\\site-packages (from easyocr) (1.9.1)\n",
      "Collecting python-bidi\n",
      "  Downloading python_bidi-0.4.2-py2.py3-none-any.whl (30 kB)\n",
      "Requirement already satisfied: scipy in c:\\users\\filipe\\anaconda3\\lib\\site-packages (from easyocr) (1.7.1)\n",
      "Requirement already satisfied: Pillow in c:\\users\\filipe\\anaconda3\\lib\\site-packages (from easyocr) (8.3.1)\n",
      "Collecting pyclipper\n",
      "  Downloading pyclipper-1.3.0.post3-cp38-cp38-win_amd64.whl (95 kB)\n",
      "Requirement already satisfied: numpy in c:\\users\\filipe\\anaconda3\\lib\\site-packages (from easyocr) (1.19.5)\n",
      "Collecting ninja\n",
      "  Downloading ninja-1.10.2.4-py2.py3-none-win_amd64.whl (293 kB)\n",
      "Collecting opencv-python-headless<=4.5.4.60\n",
      "  Downloading opencv_python_headless-4.5.4.60-cp38-cp38-win_amd64.whl (35.0 MB)\n",
      "Collecting scikit-image\n",
      "  Downloading scikit_image-0.19.3-cp38-cp38-win_amd64.whl (12.2 MB)\n",
      "Requirement already satisfied: torchvision>=0.5 in c:\\users\\filipe\\anaconda3\\lib\\site-packages (from easyocr) (0.10.1)\n",
      "Requirement already satisfied: typing_extensions in c:\\users\\filipe\\anaconda3\\lib\\site-packages (from torch->easyocr) (3.7.4.3)\n",
      "Requirement already satisfied: six in c:\\users\\filipe\\anaconda3\\lib\\site-packages (from python-bidi->easyocr) (1.15.0)\n",
      "Requirement already satisfied: packaging>=20.0 in c:\\users\\filipe\\anaconda3\\lib\\site-packages (from scikit-image->easyocr) (21.0)"
     ]
    },
    {
     "name": "stderr",
     "output_type": "stream",
     "text": [
      "  WARNING: Retrying (Retry(total=4, connect=None, read=None, redirect=None, status=None)) after connection broken by 'ReadTimeoutError(\"HTTPSConnectionPool(host='files.pythonhosted.org', port=443): Read timed out. (read timeout=15)\")': /packages/9f/cd/44ad6890ad10b50ab7115f61250a68094c48da01ee91f8d0de49806a739f/opencv_python_headless-4.5.4.60-cp38-cp38-win_amd64.whl\n",
      "  WARNING: Retrying (Retry(total=3, connect=None, read=None, redirect=None, status=None)) after connection broken by 'ReadTimeoutError(\"HTTPSConnectionPool(host='files.pythonhosted.org', port=443): Read timed out. (read timeout=15)\")': /packages/9f/cd/44ad6890ad10b50ab7115f61250a68094c48da01ee91f8d0de49806a739f/opencv_python_headless-4.5.4.60-cp38-cp38-win_amd64.whl\n"
     ]
    },
    {
     "name": "stdout",
     "output_type": "stream",
     "text": [
      "\n",
      "Collecting tifffile>=2019.7.26\n",
      "  Downloading tifffile-2022.10.10-py3-none-any.whl (210 kB)\n",
      "Collecting PyWavelets>=1.1.1\n",
      "  Downloading PyWavelets-1.4.1-cp38-cp38-win_amd64.whl (4.2 MB)\n",
      "Collecting imageio>=2.4.1\n",
      "  Downloading imageio-2.22.2-py3-none-any.whl (3.4 MB)\n",
      "Collecting networkx>=2.2\n",
      "  Downloading networkx-2.8.7-py3-none-any.whl (2.0 MB)\n",
      "Collecting Pillow\n",
      "  Downloading Pillow-9.2.0-cp38-cp38-win_amd64.whl (3.3 MB)\n",
      "Requirement already satisfied: pyparsing>=2.0.2 in c:\\users\\filipe\\anaconda3\\lib\\site-packages (from packaging>=20.0->scikit-image->easyocr) (2.4.7)\n",
      "Installing collected packages: Pillow, tifffile, PyWavelets, networkx, imageio, Shapely, scikit-image, python-bidi, pyclipper, opencv-python-headless, ninja, easyocr\n",
      "  Attempting uninstall: Pillow\n",
      "    Found existing installation: Pillow 8.3.1\n",
      "    Uninstalling Pillow-8.3.1:\n",
      "      Successfully uninstalled Pillow-8.3.1\n",
      "Successfully installed Pillow-9.2.0 PyWavelets-1.4.1 Shapely-1.8.5.post1 easyocr-1.6.2 imageio-2.22.2 networkx-2.8.7 ninja-1.10.2.4 opencv-python-headless-4.5.4.60 pyclipper-1.3.0.post3 python-bidi-0.4.2 scikit-image-0.19.3 tifffile-2022.10.10\n"
     ]
    }
   ],
   "source": [
    "!pip install easyocr"
   ]
  },
  {
   "cell_type": "code",
   "execution_count": 3,
   "id": "e902844a",
   "metadata": {},
   "outputs": [],
   "source": [
    "from easyocr import Reader"
   ]
  },
  {
   "cell_type": "code",
   "execution_count": 6,
   "id": "726a1ec8",
   "metadata": {},
   "outputs": [
    {
     "name": "stderr",
     "output_type": "stream",
     "text": [
      "CUDA not available - defaulting to CPU. Note: This module is much faster with a GPU.\n"
     ]
    }
   ],
   "source": [
    "import cv2\n",
    "import os\n",
    "\n",
    "img_path = \"images\"\n",
    "img_names = os.listdir(img_path)\n",
    "for img_name in img_names:\n",
    "    image = cv2.imread(os.path.join(img_path, img_name))\n",
    "    model = Reader([\"pt\"])\n",
    "    ocr_results = model.readtext(image)"
   ]
  },
  {
   "cell_type": "code",
   "execution_count": 12,
   "id": "17531946",
   "metadata": {},
   "outputs": [],
   "source": [
    "from difflib import SequenceMatcher\n",
    "\n",
    "def similar(a, b):\n",
    "    return SequenceMatcher(None, a, b).ratio()"
   ]
  },
  {
   "cell_type": "code",
   "execution_count": 14,
   "id": "57975c6a",
   "metadata": {},
   "outputs": [
    {
     "name": "stdout",
     "output_type": "stream",
     "text": [
      "Universidade FEDERAL 0.13793103448275862\n",
      "UFmG 0.15384615384615385\n",
      "DE Minas GERaIS 0.16666666666666666\n",
      "alunolgraduação 0.25\n",
      "FQIPE BORGES DE MATTOS ZAMAGNA LAUAR 0.0\n",
      "unldade 0.375\n",
      "ESCOLA DE ENGENHARIA 0.0\n",
      "curso 0.2857142857142857\n",
      "ÉNGENHARIA DE SISTEMAS 0.0\n",
      "ano/semestre de entroda 0.25\n",
      "mouriculo 0.6666666666666666\n",
      "2016/2 0.0\n",
      "2016097420 0.0\n",
      "numero do cartgo 0.16\n",
      "dalo de enl33b0 0.16666666666666666\n",
      "7726708/1 0.0\n",
      "25/07/2016 0.0\n",
      "Uso€CUSAOPMCOAOEEECEEO 0.0\n"
     ]
    }
   ],
   "source": [
    "for i in range(len(ocr_results)):\n",
    "    print(ocr_results[i][1], similar(ocr_results[i][1], \"matricula\"))"
   ]
  },
  {
   "cell_type": "code",
   "execution_count": 3,
   "id": "b266a245",
   "metadata": {},
   "outputs": [],
   "source": [
    "a = [{\"text\": \"aa\",\n",
    "\"bbox\": [1,2,3,4]},] * 10"
   ]
  },
  {
   "cell_type": "code",
   "execution_count": null,
   "id": "34fd59a3",
   "metadata": {},
   "outputs": [],
   "source": []
  }
 ],
 "metadata": {
  "kernelspec": {
   "display_name": "Python 3.7.8 64-bit",
   "language": "python",
   "name": "python3"
  },
  "language_info": {
   "codemirror_mode": {
    "name": "ipython",
    "version": 3
   },
   "file_extension": ".py",
   "mimetype": "text/x-python",
   "name": "python",
   "nbconvert_exporter": "python",
   "pygments_lexer": "ipython3",
   "version": "3.7.8"
  },
  "varInspector": {
   "cols": {
    "lenName": 16,
    "lenType": 16,
    "lenVar": 40
   },
   "kernels_config": {
    "python": {
     "delete_cmd_postfix": "",
     "delete_cmd_prefix": "del ",
     "library": "var_list.py",
     "varRefreshCmd": "print(var_dic_list())"
    },
    "r": {
     "delete_cmd_postfix": ") ",
     "delete_cmd_prefix": "rm(",
     "library": "var_list.r",
     "varRefreshCmd": "cat(var_dic_list()) "
    }
   },
   "types_to_exclude": [
    "module",
    "function",
    "builtin_function_or_method",
    "instance",
    "_Feature"
   ],
   "window_display": false
  },
  "vscode": {
   "interpreter": {
    "hash": "0a54084e6b208ee8d1ce3989ffc20924477a5f55f5a43e22e699a6741623861e"
   }
  }
 },
 "nbformat": 4,
 "nbformat_minor": 5
}
